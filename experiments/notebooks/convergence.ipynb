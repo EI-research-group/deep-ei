{
 "cells": [
  {
   "cell_type": "code",
   "execution_count": 1,
   "metadata": {},
   "outputs": [],
   "source": [
    "import os\n",
    "import gzip\n",
    "from tqdm.auto import tqdm\n",
    "from pathlib import Path\n",
    "from math import isclose, ceil\n",
    "from itertools import product\n",
    "from itertools import combinations_with_replacement, islice\n",
    "from collections import defaultdict\n",
    "import random\n",
    "import pickle\n",
    "\n",
    "import matplotlib\n",
    "import matplotlib.pyplot as plt\n",
    "import matplotlib.ticker\n",
    "import matplotlib.colors\n",
    "import matplotlib.cm\n",
    "from matplotlib import gridspec\n",
    "\n",
    "import numpy\n",
    "import numpy as np\n",
    "import pandas as pd\n",
    "import matplotlib.pyplot as plt\n",
    "\n",
    "import torch\n",
    "import torch.nn as nn\n",
    "import torch.nn.functional as F\n",
    "from torch.utils.data import Dataset\n",
    "import torchvision\n",
    "import torchvision.transforms as transforms\n",
    "\n",
    "from deep_ei import topology_of, ei_of_layer, vector_ei_of_layer, vector_and_pairwise_ei"
   ]
  },
  {
   "cell_type": "code",
   "execution_count": 2,
   "metadata": {},
   "outputs": [
    {
     "name": "stdout",
     "output_type": "stream",
     "text": [
      "Using device: cpu\n"
     ]
    }
   ],
   "source": [
    "########### Set Device ############\n",
    "# device = torch.device('cuda' if torch.cuda.is_available() else 'cpu')\n",
    "device = 'cpu'\n",
    "dtype = torch.float32\n",
    "torch.set_default_dtype(dtype)\n",
    "print(\"Using device: {}\".format(device))"
   ]
  },
  {
   "cell_type": "code",
   "execution_count": 3,
   "metadata": {},
   "outputs": [],
   "source": [
    "initializers = {\n",
    "    'kaiming': None, # (default)\n",
    "    'xavier_uniform': nn.init.xavier_uniform_,\n",
    "    'xavier_normal': nn.init.xavier_normal_,\n",
    "    'paper': nn.init.uniform_\n",
    "}\n",
    "\n",
    "def weight_initializer(name):\n",
    "    def init_weights(m):\n",
    "        if name == 'kaiming':\n",
    "            return\n",
    "        if name == 'paper':\n",
    "            if isinstance(m, nn.Linear):\n",
    "                boundary = 1 / np.sqrt(m.in_features)\n",
    "                nn.init.uniform_(m.weight, a=-boundary, b=boundary)\n",
    "        elif isinstance(m, nn.Linear):\n",
    "            initializers[name](m.weight)\n",
    "    return init_weights"
   ]
  },
  {
   "cell_type": "code",
   "execution_count": 4,
   "metadata": {},
   "outputs": [],
   "source": [
    "widths = [2, 3, 4, 5, 6]\n",
    "\n",
    "samples = [10, 20, 50, 100, 200, 500, 1000, \n",
    "               2000, 5000, 10000, \n",
    "               20000, 50000, 100000, \n",
    "               200000, 500000, 1000000,\n",
    "               2000000, 5000000, 10000000\n",
    "          ]\n",
    "\n",
    "database = {w: {} for w in widths}"
   ]
  },
  {
   "cell_type": "code",
   "execution_count": 11,
   "metadata": {},
   "outputs": [
    {
     "data": {
      "application/vnd.jupyter.widget-view+json": {
       "model_id": "f0e5d5ebbdc3457287feb9b922c12823",
       "version_major": 2,
       "version_minor": 0
      },
      "text/plain": [
       "HBox(children=(FloatProgress(value=0.0, max=19.0), HTML(value='')))"
      ]
     },
     "metadata": {},
     "output_type": "display_data"
    },
    {
     "name": "stdout",
     "output_type": "stream",
     "text": [
      "\n"
     ]
    },
    {
     "data": {
      "application/vnd.jupyter.widget-view+json": {
       "model_id": "79bf8f16074c44e8b3637bb81d9bdd75",
       "version_major": 2,
       "version_minor": 0
      },
      "text/plain": [
       "HBox(children=(FloatProgress(value=0.0, max=19.0), HTML(value='')))"
      ]
     },
     "metadata": {},
     "output_type": "display_data"
    },
    {
     "name": "stdout",
     "output_type": "stream",
     "text": [
      "\n"
     ]
    },
    {
     "data": {
      "application/vnd.jupyter.widget-view+json": {
       "model_id": "ed26601daaa449dcb5f8e6e77b21e896",
       "version_major": 2,
       "version_minor": 0
      },
      "text/plain": [
       "HBox(children=(FloatProgress(value=0.0, max=19.0), HTML(value='')))"
      ]
     },
     "metadata": {},
     "output_type": "display_data"
    },
    {
     "name": "stdout",
     "output_type": "stream",
     "text": [
      "\n"
     ]
    },
    {
     "data": {
      "application/vnd.jupyter.widget-view+json": {
       "model_id": "177bb0d8e9624bbbb71c1066d40c876b",
       "version_major": 2,
       "version_minor": 0
      },
      "text/plain": [
       "HBox(children=(FloatProgress(value=0.0, max=19.0), HTML(value='')))"
      ]
     },
     "metadata": {},
     "output_type": "display_data"
    },
    {
     "name": "stdout",
     "output_type": "stream",
     "text": [
      "\n"
     ]
    },
    {
     "data": {
      "application/vnd.jupyter.widget-view+json": {
       "model_id": "a35cd10ca5b74b1ea0366e3a9b4e4e13",
       "version_major": 2,
       "version_minor": 0
      },
      "text/plain": [
       "HBox(children=(FloatProgress(value=0.0, max=19.0), HTML(value='')))"
      ]
     },
     "metadata": {},
     "output_type": "display_data"
    },
    {
     "name": "stdout",
     "output_type": "stream",
     "text": [
      "\n"
     ]
    }
   ],
   "source": [
    "for w in widths:\n",
    "    layer = nn.Linear(w, w, bias=False).to(device)\n",
    "    layer.apply(weight_initializer('paper'))\n",
    "    top = topology_of(layer, input=torch.zeros((1, w)).to(device))\n",
    "    for s in tqdm(samples):\n",
    "        vector_ei, pairwise_ei = vector_and_pairwise_ei(layer, top,\n",
    "                                                       samples=s,\n",
    "                                                       batch_size=10000,\n",
    "                                                       in_range=(0, 1),\n",
    "                                                       in_bins=8,\n",
    "                                                       out_range=(0, 1),\n",
    "                                                       out_bins=8,\n",
    "                                                       activation=nn.Sigmoid(),\n",
    "                                                       device=device)\n",
    "        database[w][s] = (vector_ei, pairwise_ei)\n",
    "    "
   ]
  },
  {
   "cell_type": "code",
   "execution_count": 18,
   "metadata": {},
   "outputs": [],
   "source": [
    "with open(\"convergence-init-database.pkl\", 'wb') as f:\n",
    "    pickle.dump(database, f)"
   ]
  },
  {
   "cell_type": "code",
   "execution_count": null,
   "metadata": {},
   "outputs": [],
   "source": []
  },
  {
   "cell_type": "code",
   "execution_count": null,
   "metadata": {},
   "outputs": [],
   "source": []
  },
  {
   "cell_type": "code",
   "execution_count": 92,
   "metadata": {},
   "outputs": [],
   "source": [
    "with open(\"convergence-init-database.pkl\", 'rb') as f:\n",
    "    database = pickle.load(f)"
   ]
  },
  {
   "cell_type": "code",
   "execution_count": 93,
   "metadata": {},
   "outputs": [
    {
     "data": {
      "image/png": "[encoded data removed]",
      "text/plain": [
       "<Figure size 396x144 with 2 Axes>"
      ]
     },
     "metadata": {
      "needs_background": "light"
     },
     "output_type": "display_data"
    }
   ],
   "source": [
    "plt.figure(figsize=(5.5, 2.0))\n",
    "\n",
    "ax = plt.subplot(1, 2, 1)\n",
    "for i, w in enumerate(widths):\n",
    "    vector_eis = [database[w][s][0] for s in samples]\n",
    "    ax.plot(samples, vector_eis, label=f\"{w}->{w}\", color=matplotlib.cm.viridis(i / len(widths)))\n",
    "# ax.legend(prop={'size':6}, loc='lower right')\n",
    "ax.set_xlabel(\"samples\", fontsize=8)\n",
    "ax.set_ylabel(\"$EI$ (bits)\", fontsize=8)\n",
    "ax.set_ylim(0, 6)\n",
    "ax.set_xscale('log')\n",
    "plt.xticks(size=8)\n",
    "plt.yticks(size=8)\n",
    "ax.text(0.5, -0.5, \"(a)\", size=9, ha=\"center\", weight=\"bold\", \n",
    "         transform=ax.transAxes)\n",
    "ax.yaxis.labelpad = 0\n",
    "\n",
    "\n",
    "ax = plt.subplot(1, 2, 2)\n",
    "for i, w in enumerate(widths):\n",
    "    pairwise_eis = [database[w][s][1] for s in samples]\n",
    "    ax.plot(samples, pairwise_eis, label=f\"{w}->{w}\", color=matplotlib.cm.viridis(i / len(widths)))\n",
    "ax.legend(prop={'size':6}, loc='upper right')\n",
    "ax.set_xlabel(\"samples\", fontsize=8)\n",
    "ax.set_ylabel(\"$EI_{parts}$ (bits)\", fontsize=8)\n",
    "ax.set_ylim(0, 6)\n",
    "ax.set_xscale('log')\n",
    "plt.xticks(size=8)\n",
    "plt.yticks(size=8)\n",
    "ax.text(0.5, -0.5, \"(b)\", size=9, ha=\"center\", weight=\"bold\", \n",
    "         transform=ax.transAxes)\n",
    "ax.yaxis.labelpad = 0\n",
    "\n",
    "plt.subplots_adjust(wspace=0.3, bottom=0.35, left=0.1, right=0.9, top=0.95)\n",
    "plt.savefig(\"figures/convergence-init-plots.pdf\", dpi=100)"
   ]
  },
  {
   "cell_type": "code",
   "execution_count": null,
   "metadata": {},
   "outputs": [],
   "source": []
  },
  {
   "cell_type": "code",
   "execution_count": null,
   "metadata": {},
   "outputs": [],
   "source": []
  },
  {
   "cell_type": "code",
   "execution_count": 54,
   "metadata": {},
   "outputs": [],
   "source": [
    "widths = [2, 3, 4, 5, 6]\n",
    "\n",
    "samples = [10, 20, 50, 100, 200, 500, 1000, \n",
    "               2000, 5000, 10000, \n",
    "               20000, 50000, 100000, \n",
    "               200000, 500000, 1000000,\n",
    "               2000000, 5000000, 10000000\n",
    "          ]\n",
    "\n",
    "database = {w: {} for w in widths}"
   ]
  },
  {
   "cell_type": "code",
   "execution_count": 55,
   "metadata": {},
   "outputs": [
    {
     "data": {
      "application/vnd.jupyter.widget-view+json": {
       "model_id": "9a1afad6381648609f70c33ff70cb6c7",
       "version_major": 2,
       "version_minor": 0
      },
      "text/plain": [
       "HBox(children=(FloatProgress(value=0.0, max=19.0), HTML(value='')))"
      ]
     },
     "metadata": {},
     "output_type": "display_data"
    },
    {
     "name": "stdout",
     "output_type": "stream",
     "text": [
      "\n"
     ]
    },
    {
     "data": {
      "application/vnd.jupyter.widget-view+json": {
       "model_id": "9cfae3c3b8434f4b8c86b255f432f052",
       "version_major": 2,
       "version_minor": 0
      },
      "text/plain": [
       "HBox(children=(FloatProgress(value=0.0, max=19.0), HTML(value='')))"
      ]
     },
     "metadata": {},
     "output_type": "display_data"
    },
    {
     "name": "stdout",
     "output_type": "stream",
     "text": [
      "\n"
     ]
    },
    {
     "data": {
      "application/vnd.jupyter.widget-view+json": {
       "model_id": "7a31467826af49d8b7ebaa3c44fefa71",
       "version_major": 2,
       "version_minor": 0
      },
      "text/plain": [
       "HBox(children=(FloatProgress(value=0.0, max=19.0), HTML(value='')))"
      ]
     },
     "metadata": {},
     "output_type": "display_data"
    },
    {
     "name": "stdout",
     "output_type": "stream",
     "text": [
      "\n"
     ]
    },
    {
     "data": {
      "application/vnd.jupyter.widget-view+json": {
       "model_id": "491439780e47497e873b877c211ce22d",
       "version_major": 2,
       "version_minor": 0
      },
      "text/plain": [
       "HBox(children=(FloatProgress(value=0.0, max=19.0), HTML(value='')))"
      ]
     },
     "metadata": {},
     "output_type": "display_data"
    },
    {
     "name": "stdout",
     "output_type": "stream",
     "text": [
      "\n"
     ]
    },
    {
     "data": {
      "application/vnd.jupyter.widget-view+json": {
       "model_id": "54eba13865de478dab294474e98ccc7b",
       "version_major": 2,
       "version_minor": 0
      },
      "text/plain": [
       "HBox(children=(FloatProgress(value=0.0, max=19.0), HTML(value='')))"
      ]
     },
     "metadata": {},
     "output_type": "display_data"
    },
    {
     "name": "stdout",
     "output_type": "stream",
     "text": [
      "\n"
     ]
    }
   ],
   "source": [
    "for w in widths:\n",
    "    layer = nn.Linear(w, w, bias=False).to(device)\n",
    "    layer.apply(weight_initializer('paper'))\n",
    "    layer.weight.data = layer.weight.data * 5\n",
    "    layer.weight\n",
    "    top = topology_of(layer, input=torch.zeros((1, w)).to(device))\n",
    "    for s in tqdm(samples):\n",
    "        vector_ei, pairwise_ei = vector_and_pairwise_ei(layer, top,\n",
    "                                                       samples=s,\n",
    "                                                       batch_size=10000,\n",
    "                                                       in_range=(0, 1),\n",
    "                                                       in_bins=8,\n",
    "                                                       out_range=(0, 1),\n",
    "                                                       out_bins=8,\n",
    "                                                       activation=nn.Sigmoid(),\n",
    "                                                       device=device)\n",
    "        database[w][s] = (vector_ei, pairwise_ei)\n",
    "    "
   ]
  },
  {
   "cell_type": "code",
   "execution_count": 56,
   "metadata": {},
   "outputs": [],
   "source": [
    "with open(\"convergence-initx5-database.pkl\", 'wb') as f:\n",
    "    pickle.dump(database, f)"
   ]
  },
  {
   "cell_type": "code",
   "execution_count": null,
   "metadata": {},
   "outputs": [],
   "source": []
  },
  {
   "cell_type": "code",
   "execution_count": null,
   "metadata": {},
   "outputs": [],
   "source": []
  },
  {
   "cell_type": "code",
   "execution_count": 5,
   "metadata": {},
   "outputs": [],
   "source": [
    "with open(\"convergence-initx5-database.pkl\", 'rb') as f:\n",
    "    database = pickle.load(f)"
   ]
  },
  {
   "cell_type": "code",
   "execution_count": 7,
   "metadata": {},
   "outputs": [
    {
     "data": {
      "image/png": "[encoded data removed]",
      "text/plain": [
       "<Figure size 396x144 with 2 Axes>"
      ]
     },
     "metadata": {
      "needs_background": "light"
     },
     "output_type": "display_data"
    }
   ],
   "source": [
    "plt.figure(figsize=(5.5, 2.0))\n",
    "\n",
    "ax = plt.subplot(1, 2, 1)\n",
    "for i, w in enumerate(widths):\n",
    "    vector_eis = [database[w][s][0] for s in samples]\n",
    "    ax.plot(samples, vector_eis, label=f\"{w}->{w}\", color=matplotlib.cm.viridis(i / len(widths)))\n",
    "# ax.legend(prop={'size':6}, loc='lower right')\n",
    "ax.set_xlabel(\"samples\", fontsize=8)\n",
    "ax.set_ylabel(\"$EI$ (bits)\", fontsize=8)\n",
    "ax.set_ylim(0, 10)\n",
    "ax.set_xscale('log')\n",
    "plt.xticks(size=8)\n",
    "plt.yticks(size=8)\n",
    "ax.text(0.5, -0.5, \"(c)\", size=9, ha=\"center\", weight=\"bold\", \n",
    "         transform=ax.transAxes)\n",
    "ax.yaxis.labelpad = 0\n",
    "\n",
    "\n",
    "ax = plt.subplot(1, 2, 2)\n",
    "for i, w in enumerate(widths):\n",
    "    pairwise_eis = [database[w][s][1] for s in samples]\n",
    "    ax.plot(samples, pairwise_eis, label=f\"{w}->{w}\", color=matplotlib.cm.viridis(i / len(widths)))\n",
    "ax.legend(prop={'size':6}, loc='upper right')\n",
    "ax.set_xlabel(\"samples\", fontsize=8)\n",
    "ax.set_ylabel(\"$EI_{parts}$ (bits)\", fontsize=8)\n",
    "ax.set_ylim(0, 10)\n",
    "ax.set_xscale('log')\n",
    "plt.xticks(size=8)\n",
    "plt.yticks(size=8)\n",
    "ax.text(0.5, -0.5, \"(d)\", size=9, ha=\"center\", weight=\"bold\", \n",
    "         transform=ax.transAxes)\n",
    "ax.yaxis.labelpad = 0\n",
    "\n",
    "\n",
    "plt.subplots_adjust(wspace=0.3, bottom=0.35, left=0.1, right=0.9, top=0.95)\n",
    "plt.savefig(\"figures/convergence-initx5-plots.pdf\", dpi=100)"
   ]
  },
  {
   "cell_type": "code",
   "execution_count": null,
   "metadata": {},
   "outputs": [],
   "source": []
  },
  {
   "cell_type": "code",
   "execution_count": null,
   "metadata": {},
   "outputs": [],
   "source": []
  },
  {
   "cell_type": "code",
   "execution_count": null,
   "metadata": {},
   "outputs": [],
   "source": []
  },
  {
   "cell_type": "code",
   "execution_count": null,
   "metadata": {},
   "outputs": [],
   "source": []
  }
 ],
 "metadata": {
  "kernelspec": {
   "display_name": "Python 3",
   "language": "python",
   "name": "python3"
  },
  "language_info": {
   "codemirror_mode": {
    "name": "ipython",
    "version": 3
   },
   "file_extension": ".py",
   "mimetype": "text/x-python",
   "name": "python",
   "nbconvert_exporter": "python",
   "pygments_lexer": "ipython3",
   "version": "3.6.10"
  }
 },
 "nbformat": 4,
 "nbformat_minor": 4
}
