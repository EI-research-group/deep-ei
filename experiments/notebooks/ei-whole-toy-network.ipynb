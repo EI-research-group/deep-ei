{
 "cells": [
  {
   "cell_type": "code",
   "execution_count": 1,
   "metadata": {},
   "outputs": [],
   "source": [
    "import os\n",
    "from pathlib import Path\n",
    "import pickle\n",
    "from collections import defaultdict\n",
    "from itertools import product\n",
    "\n",
    "import numpy as np\n",
    "import matplotlib\n",
    "import matplotlib.pyplot as plt\n",
    "from mpl_toolkits.mplot3d import axes3d, Axes3D\n",
    "from tqdm.auto import tqdm\n",
    "\n",
    "import torch\n",
    "import torch.nn as nn\n",
    "\n",
    "from deep_ei import topology_of, vector_ei_of_layer"
   ]
  },
  {
   "cell_type": "code",
   "execution_count": 14,
   "metadata": {},
   "outputs": [],
   "source": [
    "# matplotlib.rc('font', **{'family': 'serif', 'serif': ['Computer Modern']})\n",
    "# matplotlib.rc('text', usetex=True)"
   ]
  },
  {
   "cell_type": "code",
   "execution_count": 2,
   "metadata": {},
   "outputs": [
    {
     "name": "stdout",
     "output_type": "stream",
     "text": [
      "Using cuda device\n"
     ]
    }
   ],
   "source": [
    "device = torch.device('cuda' if torch.cuda.is_available() else 'cpu')\n",
    "# dtype = torch.cuda.float if torch.cuda.is_available() else torch.float\n",
    "dtype = torch.float32\n",
    "torch.set_default_dtype(dtype)\n",
    "print(f\"Using {device} device\")"
   ]
  },
  {
   "cell_type": "code",
   "execution_count": 3,
   "metadata": {},
   "outputs": [],
   "source": [
    "def blueMap(collection, item):\n",
    "    size = len(collection)\n",
    "    pos = collection.index(item)\n",
    "    colormap = matplotlib.cm.get_cmap(\"Blues\")\n",
    "    return colormap(0.85 * pos / size + 0.15) # avoid using the lightest blue color -- it's not visible"
   ]
  },
  {
   "cell_type": "markdown",
   "metadata": {},
   "source": [
    "## Let's save all the data first, so that figure tweaking takes less time"
   ]
  },
  {
   "cell_type": "code",
   "execution_count": 5,
   "metadata": {},
   "outputs": [],
   "source": [
    "database = {\n",
    "    \"AB\": {},\n",
    "    \"ABC\": {}\n",
    "}"
   ]
  },
  {
   "cell_type": "markdown",
   "metadata": {},
   "source": [
    "### A -> B network data"
   ]
  },
  {
   "cell_type": "code",
   "execution_count": 6,
   "metadata": {},
   "outputs": [
    {
     "data": {
      "application/vnd.jupyter.widget-view+json": {
       "model_id": "ff5253c0d81d41a0b2d1af2adb3a2541",
       "version_major": 2,
       "version_minor": 0
      },
      "text/plain": [
       "HBox(children=(FloatProgress(value=0.0, max=6480.0), HTML(value='')))"
      ]
     },
     "metadata": {},
     "output_type": "display_data"
    }
   ],
   "source": [
    "singleton = nn.Linear(1, 1, bias=False).to(device)\n",
    "top = topology_of(singleton, torch.zeros((1, 1)).to(device))\n",
    "\n",
    "bins = [8, 16, 32, 64]\n",
    "activations = {\n",
    "    \"Sigmoid\": {\n",
    "        \"fn\": nn.Sigmoid(),\n",
    "        \"range\": (0, 1)\n",
    "    },\n",
    "    \"Tanh\": {\n",
    "        \"fn\": nn.Tanh(),\n",
    "        \"range\": (-1, 1)\n",
    "    },\n",
    "    \"ReLU\": {\n",
    "        \"fn\": nn.ReLU(),\n",
    "        \"range\": (0, 1)\n",
    "    }\n",
    "}\n",
    "\n",
    "ws = np.arange(0, 27, 0.05)\n",
    "t = tqdm(total=len(activations) * len(bins) * len(ws))\n",
    "for a in activations:\n",
    "    database['AB'][a] = {}\n",
    "    for b in bins:\n",
    "        eis = []\n",
    "        for w in ws:\n",
    "            singleton.weight.data[0][0] = w\n",
    "            eis.append(vector_ei_of_layer(singleton, top, \n",
    "                                   samples=30000, \n",
    "                                   batch_size=1000,  \n",
    "                                   in_range=activations[a]['range'],\n",
    "                                   in_bins=b,\n",
    "                                   out_range=activations[a]['range'], \n",
    "                                   out_bins=b,\n",
    "                                   activation=activations[a]['fn'], \n",
    "                                   device=device))\n",
    "            t.update()\n",
    "        database['AB'][a][b] = {}\n",
    "        database['AB'][a][b]['ws'] = ws\n",
    "        database['AB'][a][b]['EIs'] = eis"
   ]
  },
  {
   "cell_type": "markdown",
   "metadata": {},
   "source": [
    "### A, B -> C network data"
   ]
  },
  {
   "cell_type": "code",
   "execution_count": 7,
   "metadata": {},
   "outputs": [
    {
     "data": {
      "application/vnd.jupyter.widget-view+json": {
       "model_id": "70acc3aeb65a4c8cb1f8df40d51e46d7",
       "version_major": 2,
       "version_minor": 0
      },
      "text/plain": [
       "HBox(children=(FloatProgress(value=0.0, max=30000.0), HTML(value='')))"
      ]
     },
     "metadata": {},
     "output_type": "display_data"
    }
   ],
   "source": [
    "tiny_network = nn.Linear(2, 1, bias=False).to(device)\n",
    "top = topology_of(tiny_network, input=torch.zeros(1, 2).to(device))\n",
    "\n",
    "evalPoints = 100\n",
    "lbound, ubound = -10.0, 10.0\n",
    "stepSize = (ubound - lbound) / evalPoints\n",
    "\n",
    "x = y = np.arange(lbound, ubound, stepSize)\n",
    "X, Y = np.meshgrid(x, y)\n",
    "rX,rY = np.ravel(X), np.ravel(Y)\n",
    "\n",
    "t = tqdm(total=len(activations) * evalPoints * evalPoints)\n",
    "for a in activations:\n",
    "    database['ABC'][a] = {}\n",
    "    b = 64\n",
    "    eis = []\n",
    "    for i in range(evalPoints * evalPoints):\n",
    "        wA, wB = rX[i], rY[i]\n",
    "        weights = torch.tensor([[wA, wB]]).to(device)\n",
    "        tiny_network.weight.data = weights\n",
    "        EI = vector_ei_of_layer(tiny_network, top, \n",
    "                         samples=100000, \n",
    "                         batch_size=1000, \n",
    "                         in_range=activations[a]['range'],\n",
    "                         in_bins=b,\n",
    "                         out_range=activations[a]['range'],\n",
    "                         out_bins=b,\n",
    "                         activation=activations[a]['fn'], device=device)\n",
    "        eis.append(EI)\n",
    "        t.update()\n",
    "    zs = np.array(eis)\n",
    "    Z = zs.reshape(X.shape)\n",
    "    database['ABC'][a][b] = {}\n",
    "    database['ABC'][a][b]['ws'] = ws\n",
    "    database['ABC'][a][b]['X'] = X\n",
    "    database['ABC'][a][b]['Y'] = Y\n",
    "    database['ABC'][a][b]['EIs'] = Z"
   ]
  },
  {
   "cell_type": "code",
   "execution_count": 8,
   "metadata": {},
   "outputs": [],
   "source": [
    "with open('ei-whole-toy-network-database.pkl', 'wb') as f:\n",
    "    pickle.dump(database, f)"
   ]
  },
  {
   "cell_type": "code",
   "execution_count": 4,
   "metadata": {},
   "outputs": [],
   "source": [
    "with open('ei-whole-toy-network-database.pkl', 'rb') as f:\n",
    "    database = pickle.load(f)"
   ]
  },
  {
   "cell_type": "code",
   "execution_count": null,
   "metadata": {},
   "outputs": [],
   "source": []
  },
  {
   "cell_type": "code",
   "execution_count": 6,
   "metadata": {},
   "outputs": [],
   "source": [
    "bins = [8, 16, 32, 64]\n",
    "activations = {\n",
    "    \"Sigmoid\": {\n",
    "        \"fn\": nn.Sigmoid(),\n",
    "        \"range\": (0, 1)\n",
    "    },\n",
    "    \"Tanh\": {\n",
    "        \"fn\": nn.Tanh(),\n",
    "        \"range\": (-1, 1)\n",
    "    },\n",
    "    \"ReLU\": {\n",
    "        \"fn\": nn.ReLU(),\n",
    "        \"range\": (0, 1)\n",
    "    }\n",
    "}"
   ]
  },
  {
   "cell_type": "code",
   "execution_count": 8,
   "metadata": {},
   "outputs": [],
   "source": [
    "evalPoints = 100\n",
    "lbound, ubound = -10.0, 10.0\n",
    "stepSize = (ubound - lbound) / evalPoints"
   ]
  },
  {
   "cell_type": "code",
   "execution_count": 34,
   "metadata": {},
   "outputs": [
    {
     "data": {
      "image/png": "[encoded data removed]",
      "text/plain": [
       "<Figure size 396x230.4 with 6 Axes>"
      ]
     },
     "metadata": {
      "needs_background": "light"
     },
     "output_type": "display_data"
    }
   ],
   "source": [
    "plt.figure(figsize=(5.5, 3.2))\n",
    "\n",
    "ilabel = {\n",
    "    'row1': {\n",
    "        0: '(a)',\n",
    "        1: '(b)',\n",
    "        2: '(c)'\n",
    "    },\n",
    "    'row2': {\n",
    "        0: '(d)',\n",
    "        1: '(e)',\n",
    "        2: '(f)'\n",
    "    }\n",
    "}\n",
    "\n",
    "for i, a in enumerate(activations):\n",
    "    ax = plt.subplot(2, 3, i+1)\n",
    "    \n",
    "    if a == 'Sigmoid':\n",
    "        ax.plot((np.e, np.e), (0, 5.5), '--', color='grey', linewidth=0.5)\n",
    "        ax.text(np.e + 0.3, 0.2, \"e\", fontsize=6, color='grey')\n",
    "        \n",
    "    if a == 'Tanh':\n",
    "        coth1 = 1 / np.tanh(1)\n",
    "        ax.plot((coth1, coth1), (0, 5.5), '--', color='grey', linewidth=0.5)\n",
    "        ax.text(coth1 + 0.3, 0.2, \"$\\coth(1)$\", fontsize=6, color='grey')\n",
    "        \n",
    "    if a == 'ReLU':\n",
    "        ax.plot((1, 1), (0, 5.5), '--', color='grey', linewidth=0.5)\n",
    "        ax.text(1 + 0.3, 0.2, \"1\", fontsize=6, color='grey')\n",
    "    \n",
    "    for b in bins:\n",
    "        color = blueMap(bins, b)\n",
    "        ws = database['AB'][a][b]['ws']\n",
    "        EIs = database['AB'][a][b]['EIs']\n",
    "        ax.plot(ws, EIs, color=color, label=str(b), linewidth=0.8)\n",
    "        ax.yaxis.set_major_locator(matplotlib.ticker.MultipleLocator(1.0))\n",
    "        ax.xaxis.set_major_locator(matplotlib.ticker.MultipleLocator(3.0))\n",
    "        ax.tick_params(axis='both', which='major', labelsize=6)\n",
    "        \n",
    "\n",
    "    ax.set_xlabel('A → B Weight', fontsize=7)\n",
    "    ax.xaxis.labelpad = 1\n",
    "    ax.set_ylabel(\"EI (bits)\",fontsize=7)\n",
    "    ax.yaxis.labelpad = 1\n",
    "    ax.set_title(a, fontsize=8)\n",
    "    lg = ax.legend(title=\"Bins\", prop={'size': 4})\n",
    "    lg.get_title().set_fontsize(4)\n",
    "    \n",
    "    ax.text(0.5, -0.5, ilabel['row1'][i], size=9, ha=\"center\", weight=\"bold\", \n",
    "         transform=ax.transAxes)\n",
    "    \n",
    "for i, a in enumerate(activations):\n",
    "    ax = plt.subplot(2, 3, 3 + i+1, projection='3d')\n",
    "\n",
    "    X = database['ABC'][a][64]['X']\n",
    "    Y = database['ABC'][a][64]['Y']\n",
    "    Z = database['ABC'][a][64]['EIs']\n",
    "    \n",
    "    if i == 1:\n",
    "        X = X[20:-20, 20:-20]\n",
    "        Y = Y[20:-20, 20:-20]\n",
    "        Z = Z[20:-20, 20:-20]\n",
    "    \n",
    "    ax.plot_surface(X, Y, Z, cmap=plt.cm.Blues)\n",
    "\n",
    "    size = ubound - lbound\n",
    "    ax.xaxis.set_major_locator(matplotlib.ticker.MultipleLocator(3.0))\n",
    "    ax.yaxis.set_major_locator(matplotlib.ticker.MultipleLocator(3.0))\n",
    "    ax.tick_params(axis='both',which='major', labelsize=4, pad=-5)\n",
    "\n",
    "    ax.set_title(a, fontsize=8, x=0.76, y=0.98)\n",
    "    ax.set_xlabel('A → C Weight', fontsize=5)\n",
    "    ax.set_ylabel('B → C Weight', fontsize=5)\n",
    "    ax.set_zlabel(\"EI (bits)\", fontsize=5)\n",
    "    ax.xaxis.labelpad = -12\n",
    "    ax.yaxis.labelpad = -12\n",
    "    ax.zaxis.labelpad = -14\n",
    "    ax.dist = 8\n",
    "    \n",
    "    if i == 0:\n",
    "        ax.text(0, 0, -6.35, ilabel['row2'][i], size=9, ha=\"center\", weight=\"bold\")\n",
    "    elif i == 1:\n",
    "        ax.text(0, 0, -6.5, ilabel['row2'][i], size=9, ha=\"center\", weight=\"bold\")\n",
    "    elif i == 2:\n",
    "        ax.text(0, 0, -7.35, ilabel['row2'][i], size=9, ha=\"center\", weight=\"bold\")\n",
    "    \n",
    "plt.subplots_adjust(hspace=0.7, wspace=0.3, top=0.92, bottom=0.15, left=0.08, right=0.92)\n",
    "# plt.tight_layout()\n",
    "plt.savefig('figures/ei-whole-toy-network.pdf', dpi=100)\n"
   ]
  },
  {
   "cell_type": "code",
   "execution_count": null,
   "metadata": {},
   "outputs": [],
   "source": []
  },
  {
   "cell_type": "code",
   "execution_count": null,
   "metadata": {},
   "outputs": [],
   "source": []
  }
 ],
 "metadata": {
  "kernelspec": {
   "display_name": "Python 3",
   "language": "python",
   "name": "python3"
  },
  "language_info": {
   "codemirror_mode": {
    "name": "ipython",
    "version": 3
   },
   "file_extension": ".py",
   "mimetype": "text/x-python",
   "name": "python",
   "nbconvert_exporter": "python",
   "pygments_lexer": "ipython3",
   "version": "3.6.10"
  }
 },
 "nbformat": 4,
 "nbformat_minor": 4
}
