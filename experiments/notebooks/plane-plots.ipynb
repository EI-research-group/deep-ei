{
 "cells": [
  {
   "cell_type": "code",
   "execution_count": 1,
   "metadata": {},
   "outputs": [],
   "source": [
    "from pathlib import Path\n",
    "import math\n",
    "from itertools import combinations_with_replacement, islice\n",
    "\n",
    "import matplotlib\n",
    "import matplotlib.pyplot as plt\n",
    "import matplotlib.ticker\n",
    "import matplotlib.colors\n",
    "import matplotlib.cm\n",
    "from tqdm.auto import tqdm\n",
    "\n",
    "import numpy as np\n",
    "import numpy\n",
    "\n",
    "import torch\n",
    "import torch.nn as nn"
   ]
  },
  {
   "cell_type": "markdown",
   "metadata": {},
   "source": [
    "# load up MNIST"
   ]
  },
  {
   "cell_type": "code",
   "execution_count": 2,
   "metadata": {},
   "outputs": [],
   "source": [
    "BINS = 16\n",
    "MNIST_LAYERS = [(25, 6), (6, 6), (6, 6), (6, 5)]\n",
    "ACTIVATION = nn.Sigmoid()\n",
    "RUNS = 3\n",
    "FREQUENCY = 5 # epochs per measurement\n",
    "EPOCHS = 500\n",
    "BATCH_SIZE = 50\n",
    "\n",
    "top_str = \"\"\n",
    "for i, l in enumerate(MNIST_LAYERS):\n",
    "    if i == len(MNIST_LAYERS)-1:\n",
    "        in_w = l[0]\n",
    "        out_w = l[1]\n",
    "        top_str += f\"{in_w}-{out_w}\"\n",
    "    else:\n",
    "        in_w = l[0]\n",
    "        out_w = l[1]\n",
    "        top_str += f\"{in_w}-\""
   ]
  },
  {
   "cell_type": "code",
   "execution_count": 3,
   "metadata": {},
   "outputs": [
    {
     "name": "stdout",
     "output_type": "stream",
     "text": [
      "[PosixPath('/home/eric/Code/deep-ei-private/runs/small-mnist-phi/25-6-6-6-5_8bins_fixedlonger/run1-frames'), PosixPath('/home/eric/Code/deep-ei-private/runs/small-mnist-phi/25-6-6-6-5_8bins_fixedlonger/run2-frames'), PosixPath('/home/eric/Code/deep-ei-private/runs/small-mnist-phi/25-6-6-6-5_8bins_fixedlonger/run3-frames')]\n"
     ]
    }
   ],
   "source": [
    "exp_dir = Path('/home/eric/Code/deep-ei-private/runs/small-mnist-phi/25-6-6-6-5_8bins_fixedlonger')\n",
    "run_folders = [exp_dir / f\"run{i}-frames\" for i in range(1, RUNS+1)]\n",
    "# run_folders = [here / \"run1-frames\"]\n",
    "runs_frames = [list(run.glob('*.frame')) for run in run_folders]\n",
    "print(run_folders)"
   ]
  },
  {
   "cell_type": "code",
   "execution_count": 4,
   "metadata": {},
   "outputs": [
    {
     "data": {
      "text/plain": [
       "True"
      ]
     },
     "execution_count": 4,
     "metadata": {},
     "output_type": "execute_result"
    }
   ],
   "source": [
    "all(d.exists() for d in run_folders)"
   ]
  },
  {
   "cell_type": "code",
   "execution_count": 5,
   "metadata": {},
   "outputs": [],
   "source": [
    "def get_measures(path_to_frame):\n",
    "    frame = torch.load(path_to_frame)\n",
    "    measure_names = [\n",
    "        'batches',\n",
    "        'epochs',\n",
    "        'training_loss',\n",
    "        'testing_loss',\n",
    "        'training_accuracy',\n",
    "        'testing_accuracy',\n",
    "        'model'\n",
    "    ]\n",
    "    for (start_i, end_i) in combinations_with_replacement(range(len(MNIST_LAYERS)), 2):\n",
    "        measure_names.append(f\"pairwise-ei:{start_i}-{end_i}\")\n",
    "        measure_names.append(f\"pairwise-sensitivity:{start_i}-{end_i}\")\n",
    "        measure_names.append(f\"vector-ei:{start_i}-{end_i}\")\n",
    "    measures = {}\n",
    "    for name in measure_names:\n",
    "        if type(frame[name]) is torch.Tensor:\n",
    "            measures[name] = frame[name].item()\n",
    "        else:\n",
    "            measures[name] = frame[name]\n",
    "    return measures"
   ]
  },
  {
   "cell_type": "code",
   "execution_count": 6,
   "metadata": {},
   "outputs": [],
   "source": [
    "mnist_runs_datapoints = [[get_measures(path) for path in run_frames] for run_frames in runs_frames]\n",
    "for mnist_run_datapoints in mnist_runs_datapoints:\n",
    "    mnist_run_datapoints.sort(key=lambda f: f['batches'])"
   ]
  },
  {
   "cell_type": "code",
   "execution_count": 7,
   "metadata": {},
   "outputs": [],
   "source": [
    "mnist_ltl = {\n",
    "    0: 'X',\n",
    "    1: 'T1',\n",
    "    2: 'T2',\n",
    "    3: 'T3',\n",
    "    4: 'Y'\n",
    "}"
   ]
  },
  {
   "cell_type": "markdown",
   "metadata": {},
   "source": [
    "# load up IRIS"
   ]
  },
  {
   "cell_type": "code",
   "execution_count": 8,
   "metadata": {},
   "outputs": [],
   "source": [
    "########### PARAMS ############\n",
    "BINS = 256\n",
    "IRIS_LAYERS = [(4, 5), (5, 5), (5, 3)]\n",
    "ACTIVATION = nn.Sigmoid()\n",
    "RUNS = 3\n",
    "FREQUENCY = 40 # epochs per measurement\n",
    "EPOCHS = 4000\n",
    "# BATCH_SIZE = 10 this is fixed\n",
    "\n",
    "top_str = \"sigmoid\"\n",
    "for i, l in enumerate(IRIS_LAYERS):\n",
    "    if i == len(IRIS_LAYERS)-1:\n",
    "        in_w = l[0]\n",
    "        out_w = l[1]\n",
    "        top_str += f\"{in_w}-{out_w}\"\n",
    "    else:\n",
    "        in_w = l[0]\n",
    "        out_w = l[1]\n",
    "        top_str += f\"{in_w}-\""
   ]
  },
  {
   "cell_type": "code",
   "execution_count": 9,
   "metadata": {},
   "outputs": [
    {
     "name": "stdout",
     "output_type": "stream",
     "text": [
      "[PosixPath('/home/eric/Code/deep-ei-private/runs/iris/fourth/sigmoid-fixed-longer/run3-frames'), PosixPath('/home/eric/Code/deep-ei-private/runs/iris/fourth/sigmoid-fixed-longer/run2-frames'), PosixPath('/home/eric/Code/deep-ei-private/runs/iris/fourth/sigmoid-fixed-longer/run1-frames')]\n"
     ]
    }
   ],
   "source": [
    "here = Path('/home/eric/Code/deep-ei-private/runs/iris/fourth/sigmoid-fixed-longer')\n",
    "run_folders = list(here.glob(\"run*-frames\"))\n",
    "runs_frames = [list(run.glob('*.frame')) for run in run_folders]\n",
    "print(run_folders)"
   ]
  },
  {
   "cell_type": "code",
   "execution_count": 10,
   "metadata": {},
   "outputs": [
    {
     "data": {
      "text/plain": [
       "True"
      ]
     },
     "execution_count": 10,
     "metadata": {},
     "output_type": "execute_result"
    }
   ],
   "source": [
    "all(d.exists() for d in run_folders)"
   ]
  },
  {
   "cell_type": "code",
   "execution_count": 11,
   "metadata": {},
   "outputs": [],
   "source": [
    "def get_measures(path_to_frame):\n",
    "    frame = torch.load(path_to_frame)\n",
    "    measure_names = [\n",
    "        'batches',\n",
    "        'epochs',\n",
    "        'training_loss',\n",
    "        'testing_loss',\n",
    "        'training_accuracy',\n",
    "        'testing_accuracy',\n",
    "    ]\n",
    "    for (start_i, end_i) in combinations_with_replacement(range(len(IRIS_LAYERS)), 2):\n",
    "        measure_names.append(f\"pairwise-ei:{start_i}-{end_i}\")\n",
    "        measure_names.append(f\"pairwise-sensitivity:{start_i}-{end_i}\")\n",
    "        measure_names.append(f\"vector-ei:{start_i}-{end_i}\")\n",
    "    measures = {}\n",
    "    for name in measure_names:\n",
    "        if type(frame[name]) is torch.Tensor:\n",
    "            measures[name] = frame[name].item()\n",
    "        else:\n",
    "            measures[name] = frame[name]\n",
    "    return measures"
   ]
  },
  {
   "cell_type": "code",
   "execution_count": 12,
   "metadata": {},
   "outputs": [],
   "source": [
    "iris_runs_datapoints = [[get_measures(path) for path in run_frames] for run_frames in runs_frames]\n",
    "for iris_run_datapoints in iris_runs_datapoints:\n",
    "    iris_run_datapoints.sort(key=lambda f: f['batches'])\n",
    "    "
   ]
  },
  {
   "cell_type": "code",
   "execution_count": 13,
   "metadata": {},
   "outputs": [],
   "source": [
    "iris_ltl = {\n",
    "    0: 'X',\n",
    "    1: 'T1',\n",
    "    2: 'T2',\n",
    "    3: 'Y'\n",
    "}"
   ]
  },
  {
   "cell_type": "code",
   "execution_count": 14,
   "metadata": {},
   "outputs": [
    {
     "data": {
      "image/png": "[encoded data removed]",
      "text/plain": [
       "<Figure size 396x158.4 with 2 Axes>"
      ]
     },
     "metadata": {
      "needs_background": "light"
     },
     "output_type": "display_data"
    }
   ],
   "source": [
    "plt.figure(figsize=(5.5, 2.2))\n",
    "\n",
    "ax = plt.subplot(1, 2, 1)\n",
    "for i, run in enumerate(iris_runs_datapoints):\n",
    "    batches = [f['batches'] for f in run]\n",
    "    epochs = [f['epochs'] for f in run]\n",
    "    for l in range(len(IRIS_LAYERS)):\n",
    "        ei_layer = np.array([f[f\"pairwise-ei:{l}-{l}\"] for f in run])\n",
    "        sensitivity_layer = np.array([f[f\"pairwise-sensitivity:{l}-{l}\"] for f in run])\n",
    "        degeneracy_layer = sensitivity_layer - ei_layer\n",
    "        xS = sensitivity_layer\n",
    "        yS = degeneracy_layer\n",
    "        xPrime = np.array([numpy.cos(numpy.pi/4)*x - numpy.sin(numpy.pi/4)*y for x,y in zip(xS,yS)]) # / diff\n",
    "        yPrime = np.array([numpy.sin(numpy.pi/4)*x + numpy.cos(numpy.pi/4)*y for x,y in zip(xS,yS)]) # / diff\n",
    "        line, = ax.plot(xPrime, yPrime, c=matplotlib.cm.viridis(l/3), alpha=0.4 + 0.3*i)\n",
    "        if i == 2:\n",
    "            line.set_label(f\"{iris_ltl[l]} → {iris_ltl[l+1]}\")    \n",
    "noEIChange, = ax.plot([0,0],[0, 50], c = 'black', label='EI nullcline')\n",
    "ax.set_ylabel('Sensitivity / Degeneracy',fontsize=8)\n",
    "ax.set_xlabel(\"← More Degenerate — More Sensitive →\", fontsize = 8)\n",
    "plt.title(f\"IRIS\", fontsize=8)\n",
    "ax.tick_params(axis='both',which='major',labelsize=8)\n",
    "ax.legend(prop={'size': 6})\n",
    "ax.text(0.5, -0.35, \"(a)\", size=9, ha=\"center\", weight=\"bold\", \n",
    "         transform=ax.transAxes)\n",
    "\n",
    "\n",
    "ax = plt.subplot(1, 2, 2)\n",
    "for i, run in enumerate(mnist_runs_datapoints):\n",
    "    batches = [f['batches'] for f in run]\n",
    "    epochs = [f['epochs'] for f in run]\n",
    "    for l in range(len(MNIST_LAYERS)):\n",
    "        ei_layer = np.array([f[f\"pairwise-ei:{l}-{l}\"] for f in run])\n",
    "        sensitivity_layer = np.array([f[f\"pairwise-sensitivity:{l}-{l}\"] for f in run])\n",
    "        degeneracy_layer = sensitivity_layer - ei_layer\n",
    "        xS = sensitivity_layer\n",
    "        yS = degeneracy_layer\n",
    "        xPrime = np.array([numpy.cos(numpy.pi/4)*x - numpy.sin(numpy.pi/4)*y for x,y in zip(xS,yS)]) # / diff\n",
    "        yPrime = np.array([numpy.sin(numpy.pi/4)*x + numpy.cos(numpy.pi/4)*y for x,y in zip(xS,yS)]) # / diff\n",
    "        line, = ax.plot(xPrime, yPrime, c=matplotlib.cm.viridis(l/3), alpha=0.4 + 0.3*i)\n",
    "        if i == 2:\n",
    "            line.set_label(f\"{mnist_ltl[l]} → {mnist_ltl[l+1]}\")    \n",
    "noEIChange, = ax.plot([0,0],[0, 250], c = 'black', label='EI nullcline')\n",
    "ax.set_ylabel('Sensitivity / Degeneracy',fontsize=8)\n",
    "ax.set_xlabel(\"← More Degenerate — More Sensitive →\", fontsize = 8)\n",
    "plt.title(f\"MNIST\", fontsize=8)\n",
    "ax.tick_params(axis='both',which='major',labelsize=8)\n",
    "ax.legend(prop={'size': 6})\n",
    "ax.text(0.5, -0.35, \"(b)\", size=9, ha=\"center\", weight=\"bold\", \n",
    "         transform=ax.transAxes)\n",
    "\n",
    "\n",
    "\n",
    "\n",
    "plt.subplots_adjust(wspace=0.3, bottom=0.25)\n",
    "\n",
    "\n",
    "plt.savefig('figures/iris-mnist-causal-plane.pdf', dpi=100)"
   ]
  },
  {
   "cell_type": "code",
   "execution_count": 15,
   "metadata": {},
   "outputs": [
    {
     "data": {
      "image/png": "[encoded data removed]",
      "text/plain": [
       "<Figure size 396x158.4 with 2 Axes>"
      ]
     },
     "metadata": {
      "needs_background": "light"
     },
     "output_type": "display_data"
    }
   ],
   "source": [
    "plt.figure(figsize=(5.5, 2.2))\n",
    "\n",
    "ax = plt.subplot(1, 2, 1)\n",
    "for i, run in enumerate(iris_runs_datapoints):\n",
    "    batches = [f['batches'] for f in run]\n",
    "    epochs = [f['epochs'] for f in run]\n",
    "    for l in range(len(IRIS_LAYERS)):\n",
    "        ei_layer = np.array([f[f\"vector-ei:{l}-{l}\"] for f in run])\n",
    "        sensitivity_layer = np.array([f[f\"pairwise-sensitivity:{l}-{l}\"] for f in run])\n",
    "        degeneracy_layer = sensitivity_layer - ei_layer\n",
    "        xS = sensitivity_layer\n",
    "        yS = degeneracy_layer\n",
    "        xPrime = np.array([numpy.cos(numpy.pi/4)*x - numpy.sin(numpy.pi/4)*y for x,y in zip(xS,yS)]) # / diff\n",
    "        yPrime = np.array([numpy.sin(numpy.pi/4)*x + numpy.cos(numpy.pi/4)*y for x,y in zip(xS,yS)]) # / diff\n",
    "        line, = ax.plot(xPrime, yPrime, c=matplotlib.cm.viridis(l/3), alpha=0.4 + 0.3*i)\n",
    "        if i == 2:\n",
    "            line.set_label(f\"{iris_ltl[l]} → {iris_ltl[l+1]}\")    \n",
    "noEIChange, = ax.plot([0,0],[0, 50], c = 'black', label='EI nullcline')\n",
    "ax.set_ylabel('Sensitivity / Degeneracy',fontsize=8)\n",
    "ax.set_xlabel(\"← More Degenerate — More Sensitive →\", fontsize = 8)\n",
    "plt.title(f\"IRIS (4 → 5 → 5 → 3)\", fontsize=8)\n",
    "ax.tick_params(axis='both',which='major',labelsize=8)\n",
    "ax.legend(prop={'size': 6}, loc='upper left')\n",
    "ax.text(0.5, -0.35, \"(a)\", size=9, ha=\"center\", weight=\"bold\", \n",
    "         transform=ax.transAxes)\n",
    "\n",
    "\n",
    "ax = plt.subplot(1, 2, 2)\n",
    "for i, run in enumerate(mnist_runs_datapoints):\n",
    "    batches = [f['batches'] for f in run]\n",
    "    epochs = [f['epochs'] for f in run]\n",
    "    for l in range(len(MNIST_LAYERS)):\n",
    "        ei_layer = np.array([f[f\"vector-ei:{l}-{l}\"] for f in run])\n",
    "        sensitivity_layer = np.array([f[f\"pairwise-sensitivity:{l}-{l}\"] for f in run])\n",
    "        degeneracy_layer = sensitivity_layer - ei_layer\n",
    "        xS = sensitivity_layer\n",
    "        yS = degeneracy_layer\n",
    "        xPrime = np.array([numpy.cos(numpy.pi/4)*x - numpy.sin(numpy.pi/4)*y for x,y in zip(xS,yS)]) # / diff\n",
    "        yPrime = np.array([numpy.sin(numpy.pi/4)*x + numpy.cos(numpy.pi/4)*y for x,y in zip(xS,yS)]) # / diff\n",
    "        line, = ax.plot(xPrime, yPrime, c=matplotlib.cm.viridis(l/3), alpha=0.4 + 0.3*i)\n",
    "        if i == 2:\n",
    "            line.set_label(f\"{mnist_ltl[l]} → {mnist_ltl[l+1]}\")    \n",
    "noEIChange, = ax.plot([0,0],[0, 250], c = 'black', label='EI nullcline')\n",
    "ax.set_ylabel('Sensitivity / Degeneracy',fontsize=8)\n",
    "ax.set_xlabel(\"← More Degenerate — More Sensitive →\", fontsize = 8)\n",
    "plt.title(f\"MNIST (25 → 6 → 6 → 6 → 5)\", fontsize=8)\n",
    "ax.tick_params(axis='both',which='major',labelsize=8)\n",
    "ax.legend(prop={'size': 6}, loc='upper left')\n",
    "ax.text(0.5, -0.35, \"(b)\", size=9, ha=\"center\", weight=\"bold\", \n",
    "         transform=ax.transAxes)\n",
    "\n",
    "\n",
    "plt.subplots_adjust(wspace=0.3, bottom=0.25)\n",
    "\n",
    "\n",
    "plt.savefig('figures/iris-mnist-causal-plane_whole_degeneracy.pdf', dpi=100)"
   ]
  },
  {
   "cell_type": "markdown",
   "metadata": {},
   "source": [
    "# Load up shallow MNIST network"
   ]
  },
  {
   "cell_type": "code",
   "execution_count": 16,
   "metadata": {},
   "outputs": [],
   "source": [
    "BINS = 8\n",
    "SHALLOW_LAYERS = [(25, 6), (6, 5)]\n",
    "ACTIVATION = nn.Sigmoid()\n",
    "RUNS = 3\n",
    "FREQUENCY = 10 # epochs per measurement\n",
    "EPOCHS = 500\n",
    "BATCH_SIZE = 50\n",
    "\n",
    "top_str = \"\"\n",
    "for i, l in enumerate(SHALLOW_LAYERS):\n",
    "    if i == len(SHALLOW_LAYERS)-1:\n",
    "        in_w = l[0]\n",
    "        out_w = l[1]\n",
    "        top_str += f\"{in_w}-{out_w}\"\n",
    "    else:\n",
    "        in_w = l[0]\n",
    "        out_w = l[1]\n",
    "        top_str += f\"{in_w}-\""
   ]
  },
  {
   "cell_type": "code",
   "execution_count": 17,
   "metadata": {},
   "outputs": [
    {
     "name": "stdout",
     "output_type": "stream",
     "text": [
      "[PosixPath('/home/eric/Code/deep-ei-private/runs/small-mnist-phi/25-6-5_8bins_fixedlonger/v2/run1-frames'), PosixPath('/home/eric/Code/deep-ei-private/runs/small-mnist-phi/25-6-5_8bins_fixedlonger/v2/run2-frames'), PosixPath('/home/eric/Code/deep-ei-private/runs/small-mnist-phi/25-6-5_8bins_fixedlonger/v2/run3-frames')]\n"
     ]
    }
   ],
   "source": [
    "exp_dir = Path('/home/eric/Code/deep-ei-private/runs/small-mnist-phi/25-6-5_8bins_fixedlonger/v2')\n",
    "run_folders = [exp_dir / f\"run{i}-frames\" for i in range(1, RUNS+1)]\n",
    "# run_folders = [here / \"run1-frames\"]\n",
    "runs_frames = [list(run.glob('*.frame')) for run in run_folders]\n",
    "print(run_folders)"
   ]
  },
  {
   "cell_type": "code",
   "execution_count": 18,
   "metadata": {},
   "outputs": [
    {
     "data": {
      "text/plain": [
       "True"
      ]
     },
     "execution_count": 18,
     "metadata": {},
     "output_type": "execute_result"
    }
   ],
   "source": [
    "all(d.exists() for d in run_folders)"
   ]
  },
  {
   "cell_type": "code",
   "execution_count": 19,
   "metadata": {},
   "outputs": [],
   "source": [
    "def get_measures(path_to_frame):\n",
    "    frame = torch.load(path_to_frame)\n",
    "    measure_names = [\n",
    "        'batches',\n",
    "        'epochs',\n",
    "        'training_loss',\n",
    "        'testing_loss',\n",
    "        'training_accuracy',\n",
    "        'testing_accuracy',\n",
    "        'model'\n",
    "    ]\n",
    "    for i in range(len(SHALLOW_LAYERS)):\n",
    "        start_i = end_i = i\n",
    "        measure_names.append(f\"pairwise-ei:{start_i}-{end_i}\")\n",
    "        measure_names.append(f\"pairwise-sensitivity:{start_i}-{end_i}\")\n",
    "        measure_names.append(f\"vector-ei:{start_i}-{end_i}\")\n",
    "    measures = {}\n",
    "    for name in measure_names:\n",
    "        if type(frame[name]) is torch.Tensor:\n",
    "            measures[name] = frame[name].item()\n",
    "        else:\n",
    "            measures[name] = frame[name]\n",
    "    return measures"
   ]
  },
  {
   "cell_type": "code",
   "execution_count": 20,
   "metadata": {},
   "outputs": [],
   "source": [
    "shallow_runs_datapoints = [[get_measures(path) for path in run_frames] for run_frames in runs_frames]\n",
    "for shallow_run_datapoints in shallow_runs_datapoints:\n",
    "    shallow_run_datapoints.sort(key=lambda f: f['batches'])"
   ]
  },
  {
   "cell_type": "code",
   "execution_count": 21,
   "metadata": {},
   "outputs": [],
   "source": [
    "shallow_ltl = {\n",
    "    0: 'X',\n",
    "    1: 'T1',\n",
    "    2: 'Y'\n",
    "}"
   ]
  },
  {
   "cell_type": "markdown",
   "metadata": {},
   "source": [
    "# load up deep MNIST"
   ]
  },
  {
   "cell_type": "code",
   "execution_count": 22,
   "metadata": {},
   "outputs": [],
   "source": [
    "BINS = 8\n",
    "DEEP_LAYERS = [(25, 6), (6, 6), (6, 6), (6, 6), (6, 6),  (6, 5)]\n",
    "ACTIVATION = nn.Sigmoid()\n",
    "RUNS = 3\n",
    "FREQUENCY = 10 # epochs per measurement\n",
    "EPOCHS = 500\n",
    "BATCH_SIZE = 50\n",
    "\n",
    "top_str = \"\"\n",
    "for i, l in enumerate(DEEP_LAYERS):\n",
    "    if i == len(DEEP_LAYERS)-1:\n",
    "        in_w = l[0]\n",
    "        out_w = l[1]\n",
    "        top_str += f\"{in_w}-{out_w}\"\n",
    "    else:\n",
    "        in_w = l[0]\n",
    "        out_w = l[1]\n",
    "        top_str += f\"{in_w}-\""
   ]
  },
  {
   "cell_type": "code",
   "execution_count": 23,
   "metadata": {},
   "outputs": [
    {
     "name": "stdout",
     "output_type": "stream",
     "text": [
      "[PosixPath('/home/eric/Code/deep-ei-private/runs/small-mnist-phi/25-6-6-6-6-6-5_8bins_fixedlonger/v2/run1-frames'), PosixPath('/home/eric/Code/deep-ei-private/runs/small-mnist-phi/25-6-6-6-6-6-5_8bins_fixedlonger/v2/run2-frames'), PosixPath('/home/eric/Code/deep-ei-private/runs/small-mnist-phi/25-6-6-6-6-6-5_8bins_fixedlonger/v2/run3-frames')]\n"
     ]
    }
   ],
   "source": [
    "exp_dir = Path('/home/eric/Code/deep-ei-private/runs/small-mnist-phi/25-6-6-6-6-6-5_8bins_fixedlonger/v2/')\n",
    "run_folders = [exp_dir / f\"run{i}-frames\" for i in range(1, RUNS+1)]\n",
    "# run_folders = [here / \"run1-frames\"]\n",
    "runs_frames = [list(run.glob('*.frame')) for run in run_folders]\n",
    "print(run_folders)"
   ]
  },
  {
   "cell_type": "code",
   "execution_count": 24,
   "metadata": {},
   "outputs": [
    {
     "data": {
      "text/plain": [
       "True"
      ]
     },
     "execution_count": 24,
     "metadata": {},
     "output_type": "execute_result"
    }
   ],
   "source": [
    "all(d.exists() for d in run_folders)"
   ]
  },
  {
   "cell_type": "code",
   "execution_count": 25,
   "metadata": {},
   "outputs": [],
   "source": [
    "def get_measures(path_to_frame):\n",
    "    frame = torch.load(path_to_frame)\n",
    "    measure_names = [\n",
    "        'batches',\n",
    "        'epochs',\n",
    "        'training_loss',\n",
    "        'testing_loss',\n",
    "        'training_accuracy',\n",
    "        'testing_accuracy',\n",
    "        'model'\n",
    "    ]\n",
    "#     for (start_i, end_i) in combinations_with_replacement(range(len(DEEP_LAYERS)), 2):\n",
    "    for i in range(len(DEEP_LAYERS)):\n",
    "        start_i = end_i = i\n",
    "        measure_names.append(f\"pairwise-ei:{start_i}-{end_i}\")\n",
    "        measure_names.append(f\"pairwise-sensitivity:{start_i}-{end_i}\")\n",
    "        measure_names.append(f\"vector-ei:{start_i}-{end_i}\")\n",
    "    measures = {}\n",
    "    for name in measure_names:\n",
    "        if type(frame[name]) is torch.Tensor:\n",
    "            measures[name] = frame[name].item()\n",
    "        else:\n",
    "            measures[name] = frame[name]\n",
    "    return measures"
   ]
  },
  {
   "cell_type": "code",
   "execution_count": 26,
   "metadata": {},
   "outputs": [],
   "source": [
    "deep_runs_datapoints = [[get_measures(path) for path in run_frames] for run_frames in runs_frames]\n",
    "for deep_run_datapoints in deep_runs_datapoints:\n",
    "    deep_run_datapoints.sort(key=lambda f: f['batches'])"
   ]
  },
  {
   "cell_type": "code",
   "execution_count": 27,
   "metadata": {},
   "outputs": [],
   "source": [
    "deep_ltl = {\n",
    "    0: 'X',\n",
    "    1: 'T1',\n",
    "    2: 'T2',\n",
    "    3: 'T3',\n",
    "    4: 'T4',\n",
    "    5: 'T5',\n",
    "    6: 'Y'\n",
    "}"
   ]
  },
  {
   "cell_type": "code",
   "execution_count": 28,
   "metadata": {},
   "outputs": [
    {
     "data": {
      "image/png": "[encoded data removed]",
      "text/plain": [
       "<Figure size 396x158.4 with 2 Axes>"
      ]
     },
     "metadata": {
      "needs_background": "light"
     },
     "output_type": "display_data"
    }
   ],
   "source": [
    "plt.figure(figsize=(5.5, 2.2))\n",
    "\n",
    "ax = plt.subplot(1, 2, 1)\n",
    "for i, run in enumerate(shallow_runs_datapoints):\n",
    "    batches = [f['batches'] for f in run]\n",
    "    epochs = [f['epochs'] for f in run]\n",
    "    for l in range(len(SHALLOW_LAYERS)):\n",
    "        ei_layer = np.array([f[f\"pairwise-ei:{l}-{l}\"] for f in run])\n",
    "        sensitivity_layer = np.array([f[f\"pairwise-sensitivity:{l}-{l}\"] for f in run])\n",
    "        degeneracy_layer = sensitivity_layer - ei_layer\n",
    "        xS = sensitivity_layer\n",
    "        yS = degeneracy_layer\n",
    "        xPrime = np.array([numpy.cos(numpy.pi/4)*x - numpy.sin(numpy.pi/4)*y for x,y in zip(xS,yS)]) # / diff\n",
    "        yPrime = np.array([numpy.sin(numpy.pi/4)*x + numpy.cos(numpy.pi/4)*y for x,y in zip(xS,yS)]) # / diff\n",
    "        line, = ax.plot(xPrime, yPrime, c=matplotlib.cm.viridis(l/3), alpha=0.4 + 0.3*i)\n",
    "        if i == 2:\n",
    "            line.set_label(f\"{shallow_ltl[l]} → {shallow_ltl[l+1]}\")    \n",
    "noEIChange, = ax.plot([0,0],[0, 250], c = 'black', label='EI nullcline')\n",
    "ax.set_ylabel('Sensitivity / Degeneracy',fontsize=8)\n",
    "ax.set_xlabel(\"← More Degenerate — More Sensitive →\", fontsize = 8)\n",
    "ax.set_xlim(-0.2, 2.6)\n",
    "plt.title(f\"MNIST (25 → 6 → 5)\", fontsize=8)\n",
    "ax.tick_params(axis='both',which='major',labelsize=8)\n",
    "ax.legend(loc='lower left', prop={'size': 6})\n",
    "ax.text(0.5, -0.35, \"(c)\", size=9, ha=\"center\", weight=\"bold\", \n",
    "         transform=ax.transAxes)\n",
    "\n",
    "\n",
    "ax = plt.subplot(1, 2, 2)\n",
    "for i, run in enumerate(deep_runs_datapoints):\n",
    "    batches = [f['batches'] for f in run]\n",
    "    epochs = [f['epochs'] for f in run]\n",
    "    for l in range(len(DEEP_LAYERS)):\n",
    "        ei_layer = np.array([f[f\"pairwise-ei:{l}-{l}\"] for f in run])\n",
    "        sensitivity_layer = np.array([f[f\"pairwise-sensitivity:{l}-{l}\"] for f in run])\n",
    "        degeneracy_layer = sensitivity_layer - ei_layer\n",
    "        xS = sensitivity_layer\n",
    "        yS = degeneracy_layer\n",
    "        xPrime = np.array([numpy.cos(numpy.pi/4)*x - numpy.sin(numpy.pi/4)*y for x,y in zip(xS,yS)]) # / diff\n",
    "        yPrime = np.array([numpy.sin(numpy.pi/4)*x + numpy.cos(numpy.pi/4)*y for x,y in zip(xS,yS)]) # / diff\n",
    "        line, = ax.plot(xPrime, yPrime, c=matplotlib.cm.viridis(l/6), alpha=0.4 + 0.3*i)\n",
    "        if i == 2:\n",
    "            line.set_label(f\"{deep_ltl[l]} → {deep_ltl[l+1]}\")    \n",
    "noEIChange, = ax.plot([0,0],[0, 250], c = 'black', label='EI nullcline')\n",
    "ax.set_ylabel('Sensitivity / Degeneracy',fontsize=8)\n",
    "ax.set_xlabel(\"← More Degenerate — More Sensitive →\", fontsize = 8)\n",
    "ax.set_xlim(-0.2, 2.6)\n",
    "plt.title(f\"MNIST (25 → 6 → 6 → 6 → 6 → 6 → 5)\", fontsize=8)\n",
    "ax.tick_params(axis='both',which='major',labelsize=8)\n",
    "ax.legend(prop={'size': 6})\n",
    "ax.text(0.5, -0.35, \"(d)\", size=9, ha=\"center\", weight=\"bold\", \n",
    "         transform=ax.transAxes)\n",
    "\n",
    "\n",
    "\n",
    "\n",
    "plt.subplots_adjust(wspace=0.3, bottom=0.25)\n",
    "\n",
    "\n",
    "plt.savefig('figures/shallow-deep-causal-plane.pdf', dpi=100)\n"
   ]
  },
  {
   "cell_type": "code",
   "execution_count": 29,
   "metadata": {},
   "outputs": [
    {
     "data": {
      "image/png": "[encoded data removed]",
      "text/plain": [
       "<Figure size 396x158.4 with 2 Axes>"
      ]
     },
     "metadata": {
      "needs_background": "light"
     },
     "output_type": "display_data"
    }
   ],
   "source": [
    "plt.figure(figsize=(5.5, 2.2))\n",
    "\n",
    "ax = plt.subplot(1, 2, 1)\n",
    "for i, run in enumerate(shallow_runs_datapoints):\n",
    "    batches = [f['batches'] for f in run]\n",
    "    epochs = [f['epochs'] for f in run]\n",
    "    for l in range(len(SHALLOW_LAYERS)):\n",
    "        ei_layer = np.array([f[f\"vector-ei:{l}-{l}\"] for f in run])\n",
    "        sensitivity_layer = np.array([f[f\"pairwise-sensitivity:{l}-{l}\"] for f in run])\n",
    "        degeneracy_layer = sensitivity_layer - ei_layer\n",
    "        xS = sensitivity_layer\n",
    "        yS = degeneracy_layer\n",
    "        xPrime = np.array([numpy.cos(numpy.pi/4)*x - numpy.sin(numpy.pi/4)*y for x,y in zip(xS,yS)]) # / diff\n",
    "        yPrime = np.array([numpy.sin(numpy.pi/4)*x + numpy.cos(numpy.pi/4)*y for x,y in zip(xS,yS)]) # / diff\n",
    "        line, = ax.plot(xPrime, yPrime, c=matplotlib.cm.viridis(l/3), alpha=0.4 + 0.3*i)\n",
    "        if i == 2:\n",
    "            line.set_label(f\"{shallow_ltl[l]} → {shallow_ltl[l+1]}\")    \n",
    "noEIChange, = ax.plot([0,0],[0, 250], c = 'black', label='EI nullcline')\n",
    "ax.set_ylabel('Sensitivity / Degeneracy',fontsize=8)\n",
    "ax.set_xlabel(\"← More Degenerate — More Sensitive →\", fontsize = 8)\n",
    "ax.set_xlim(-0.2, 8.0)\n",
    "plt.title(f\"MNIST (25 → 6 → 5)\", fontsize=8)\n",
    "ax.tick_params(axis='both',which='major',labelsize=8)\n",
    "ax.legend(loc='upper left', prop={'size': 6})\n",
    "ax.text(0.5, -0.35, \"(c)\", size=9, ha=\"center\", weight=\"bold\", \n",
    "         transform=ax.transAxes)\n",
    "\n",
    "\n",
    "ax = plt.subplot(1, 2, 2)\n",
    "for i, run in enumerate(deep_runs_datapoints):\n",
    "    batches = [f['batches'] for f in run]\n",
    "    epochs = [f['epochs'] for f in run]\n",
    "    for l in range(len(DEEP_LAYERS)):\n",
    "        ei_layer = np.array([f[f\"vector-ei:{l}-{l}\"] for f in run])\n",
    "        sensitivity_layer = np.array([f[f\"pairwise-sensitivity:{l}-{l}\"] for f in run])\n",
    "        degeneracy_layer = sensitivity_layer - ei_layer\n",
    "        xS = sensitivity_layer\n",
    "        yS = degeneracy_layer\n",
    "        xPrime = np.array([numpy.cos(numpy.pi/4)*x - numpy.sin(numpy.pi/4)*y for x,y in zip(xS,yS)]) # / diff\n",
    "        yPrime = np.array([numpy.sin(numpy.pi/4)*x + numpy.cos(numpy.pi/4)*y for x,y in zip(xS,yS)]) # / diff\n",
    "        line, = ax.plot(xPrime, yPrime, c=matplotlib.cm.viridis(l/6), alpha=0.4 + 0.3*i)\n",
    "        if i == 2:\n",
    "            line.set_label(f\"{deep_ltl[l]} → {deep_ltl[l+1]}\")    \n",
    "noEIChange, = ax.plot([0,0],[0, 250], c = 'black', label='EI nullcline')\n",
    "ax.set_ylabel('Sensitivity / Degeneracy',fontsize=8)\n",
    "ax.set_xlabel(\"← More Degenerate — More Sensitive →\", fontsize = 8)\n",
    "ax.set_xlim(-0.2, 4.5)\n",
    "plt.title(f\"MNIST (25 → 6 → 6 → 6 → 6 → 6 → 5)\", fontsize=8)\n",
    "ax.tick_params(axis='both',which='major',labelsize=8)\n",
    "ax.legend(prop={'size': 6}, loc='upper left')\n",
    "ax.text(0.5, -0.35, \"(d)\", size=9, ha=\"center\", weight=\"bold\", \n",
    "         transform=ax.transAxes)\n",
    "\n",
    "\n",
    "\n",
    "\n",
    "plt.subplots_adjust(wspace=0.3, bottom=0.25)\n",
    "\n",
    "\n",
    "plt.savefig('figures/shallow-deep-causal-plane_whole_degeneracy.pdf', dpi=100)\n"
   ]
  },
  {
   "cell_type": "code",
   "execution_count": null,
   "metadata": {},
   "outputs": [],
   "source": []
  },
  {
   "cell_type": "code",
   "execution_count": null,
   "metadata": {},
   "outputs": [],
   "source": []
  },
  {
   "cell_type": "code",
   "execution_count": null,
   "metadata": {},
   "outputs": [],
   "source": []
  },
  {
   "cell_type": "code",
   "execution_count": null,
   "metadata": {},
   "outputs": [],
   "source": []
  },
  {
   "cell_type": "code",
   "execution_count": null,
   "metadata": {},
   "outputs": [],
   "source": []
  },
  {
   "cell_type": "code",
   "execution_count": null,
   "metadata": {},
   "outputs": [],
   "source": []
  },
  {
   "cell_type": "code",
   "execution_count": null,
   "metadata": {},
   "outputs": [],
   "source": []
  }
 ],
 "metadata": {
  "kernelspec": {
   "display_name": "Python 3",
   "language": "python",
   "name": "python3"
  },
  "language_info": {
   "codemirror_mode": {
    "name": "ipython",
    "version": 3
   },
   "file_extension": ".py",
   "mimetype": "text/x-python",
   "name": "python",
   "nbconvert_exporter": "python",
   "pygments_lexer": "ipython3",
   "version": "3.6.10"
  }
 },
 "nbformat": 4,
 "nbformat_minor": 4
}
