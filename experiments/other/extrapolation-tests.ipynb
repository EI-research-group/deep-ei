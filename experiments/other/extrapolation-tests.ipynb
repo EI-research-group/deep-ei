{
 "cells": [
  {
   "cell_type": "code",
   "execution_count": 1,
   "metadata": {},
   "outputs": [],
   "source": [
    "import os\n",
    "from pathlib import Path\n",
    "import pickle\n",
    "from collections import defaultdict\n",
    "\n",
    "import numpy as np\n",
    "import matplotlib\n",
    "import matplotlib.pyplot as plt\n",
    "from mpl_toolkits.mplot3d import axes3d, Axes3D\n",
    "\n",
    "import torch\n",
    "import torch.nn as nn\n",
    "\n",
    "from deep_ei import topology_of, ei_of_layer"
   ]
  },
  {
   "cell_type": "code",
   "execution_count": 2,
   "metadata": {},
   "outputs": [
    {
     "name": "stdout",
     "output_type": "stream",
     "text": [
      "Using device: cpu\n"
     ]
    }
   ],
   "source": [
    "device = torch.device('cuda' if torch.cuda.is_available() else 'cpu')\n",
    "# dtype = torch.cuda.float if torch.cuda.is_available() else torch.float\n",
    "dtype = torch.float32\n",
    "torch.set_default_dtype(dtype)\n",
    "print(f\"Using device: {device}\")"
   ]
  },
  {
   "cell_type": "code",
   "execution_count": 3,
   "metadata": {},
   "outputs": [],
   "source": [
    "initializers = {\n",
    "    'kaiming': None, # (default)\n",
    "    'xavier_uniform': nn.init.xavier_uniform_,\n",
    "    'xavier_normal': nn.init.xavier_normal_,\n",
    "    'paper': nn.init.uniform_\n",
    "}\n",
    "\n",
    "def weight_initializer(name):\n",
    "    def init_weights(m):\n",
    "        if name == 'kaiming':\n",
    "            return\n",
    "        if name == 'paper':\n",
    "            if isinstance(m, nn.Linear):\n",
    "                boundary = 1 / np.sqrt(m.in_features)\n",
    "                nn.init.uniform_(m.weight, a=-boundary, b=boundary)\n",
    "        elif isinstance(m, nn.Linear):\n",
    "            initializers[name](m.weight)\n",
    "    return init_weights"
   ]
  },
  {
   "cell_type": "code",
   "execution_count": 4,
   "metadata": {},
   "outputs": [],
   "source": [
    "widths = [10, 20, 30, 40, 50]\n",
    "\n",
    "sample_sizes = [10000, 20000, 50000, 100000, 150000, 200000, 300000, 500000, 600000, 700000, 800000, 900000, 1000000]"
   ]
  },
  {
   "cell_type": "markdown",
   "metadata": {},
   "source": [
    "# Danger Zone: Don't run if you already have the data"
   ]
  },
  {
   "cell_type": "code",
   "execution_count": 8,
   "metadata": {},
   "outputs": [
    {
     "name": "stdout",
     "output_type": "stream",
     "text": [
      "done with 10\n",
      "done with 20\n",
      "done with 30\n",
      "done with 40\n",
      "done with 50\n"
     ]
    }
   ],
   "source": [
    "eis64 = defaultdict(list)\n",
    "\n",
    "for width in widths:\n",
    "    network = nn.Linear(width, width, bias=False).to(device)\n",
    "    top = topology_of(network, input=torch.zeros((1, width)).to(device))\n",
    "    network.apply(weight_initializer('paper'))\n",
    "    for size in sample_sizes:\n",
    "        EI = ei_of_layer(network, top, \n",
    "                         samples=size, \n",
    "                         batch_size=300, \n",
    "                         in_range=(0, 1),\n",
    "                         in_bins=64,\n",
    "                         out_range=(0, 1),\n",
    "                         out_bins=64,\n",
    "                         activation=nn.Sigmoid(),\n",
    "                         device=device)\n",
    "        eis64[width].append(EI)\n",
    "    print(\"done with {}\".format(width))\n",
    "\n",
    "saved_data_dir = Path(\"saved_data\")\n",
    "if not saved_data_dir.exists():\n",
    "    saved_data_dir.mkdir()\n",
    "\n",
    "with open(saved_data_dir / \"eis64.pkl\", \"wb\") as f:\n",
    "    pickle.dump(eis64, f)"
   ]
  },
  {
   "cell_type": "code",
   "execution_count": 9,
   "metadata": {},
   "outputs": [
    {
     "name": "stdout",
     "output_type": "stream",
     "text": [
      "done with 10\n",
      "done with 20\n",
      "done with 30\n",
      "done with 40\n",
      "done with 50\n"
     ]
    }
   ],
   "source": [
    "eis128 = defaultdict(list)\n",
    "\n",
    "for width in widths:\n",
    "    network = nn.Linear(width, width, bias=False).to(device)\n",
    "    top = topology_of(network, input=torch.zeros((1, width)).to(device))\n",
    "    network.apply(weight_initializer('paper'))\n",
    "    for size in sample_sizes:\n",
    "        EI = ei_of_layer(network, top, \n",
    "                         samples=size, \n",
    "                         batch_size=300, \n",
    "                         in_range=(0, 1),\n",
    "                         in_bins=128,\n",
    "                         out_range=(0, 1),\n",
    "                         out_bins=128,\n",
    "                         activation=nn.Sigmoid(),\n",
    "                         device=device)\n",
    "        eis128[width].append(EI)\n",
    "    print(\"done with {}\".format(width))\n",
    "\n",
    "saved_data_dir = Path(\"saved_data\")\n",
    "if not saved_data_dir.exists():\n",
    "    saved_data_dir.mkdir()\n",
    "\n",
    "with open(saved_data_dir / \"eis128.pkl\", \"wb\") as f:\n",
    "    pickle.dump(eis128, f)"
   ]
  },
  {
   "cell_type": "code",
   "execution_count": 10,
   "metadata": {},
   "outputs": [
    {
     "name": "stdout",
     "output_type": "stream",
     "text": [
      "done with 10\n",
      "done with 20\n",
      "done with 30\n",
      "done with 40\n",
      "done with 50\n"
     ]
    }
   ],
   "source": [
    "eis256 = defaultdict(list)\n",
    "\n",
    "for width in widths:\n",
    "    network = nn.Linear(width, width, bias=False).to(device)\n",
    "    top = topology_of(network, input=torch.zeros((1, width)).to(device))\n",
    "    network.apply(weight_initializer('paper'))\n",
    "    for size in sample_sizes:\n",
    "        EI = ei_of_layer(network, top, \n",
    "                         samples=size, \n",
    "                         batch_size=300, \n",
    "                         in_range=(0, 1),\n",
    "                         in_bins=256,\n",
    "                         out_range=(0, 1),\n",
    "                         out_bins=256,\n",
    "                         activation=nn.Sigmoid(),\n",
    "                         device=device)\n",
    "        eis128[width].append(EI)\n",
    "    print(\"done with {}\".format(width))\n",
    "\n",
    "saved_data_dir = Path(\"saved_data\")\n",
    "if not saved_data_dir.exists():\n",
    "    saved_data_dir.mkdir()\n",
    "\n",
    "with open(saved_data_dir / \"eis256.pkl\", \"wb\") as f:\n",
    "    pickle.dump(eis256, f)"
   ]
  },
  {
   "cell_type": "markdown",
   "metadata": {},
   "source": [
    "# Done with danger zone: load the data now"
   ]
  },
  {
   "cell_type": "code",
   "execution_count": 10,
   "metadata": {},
   "outputs": [],
   "source": [
    "saved_data_dir = Path(\"saved_data\")\n",
    "if not saved_data_dir.exists():\n",
    "    saved_data_dir.mkdir()\n",
    "\n",
    "with open(saved_data_dir / \"eis64.pkl\", \"rb\") as f:\n",
    "    eis64 = pickle.load(f)\n",
    "    \n",
    "with open(saved_data_dir / \"eis128.pkl\", \"rb\") as f:\n",
    "    eis128 = pickle.load(f)\n",
    "    \n",
    "with open(saved_data_dir / \"eis256.pkl\", \"rb\") as f:\n",
    "    eis256 = pickle.load(f)"
   ]
  },
  {
   "cell_type": "code",
   "execution_count": 16,
   "metadata": {},
   "outputs": [],
   "source": [
    "from scipy.optimize import curve_fit"
   ]
  },
  {
   "cell_type": "code",
   "execution_count": 168,
   "metadata": {},
   "outputs": [],
   "source": [
    "WIDTH = 20"
   ]
  },
  {
   "cell_type": "code",
   "execution_count": 165,
   "metadata": {},
   "outputs": [
    {
     "data": {
      "text/plain": [
       "[]"
      ]
     },
     "execution_count": 165,
     "metadata": {},
     "output_type": "execute_result"
    }
   ],
   "source": [
    "eis256[WIDTH]"
   ]
  },
  {
   "cell_type": "code",
   "execution_count": 159,
   "metadata": {},
   "outputs": [],
   "source": [
    "def curve(x, a, e, C):\n",
    "    return (a / (x)**e) + C"
   ]
  },
  {
   "cell_type": "code",
   "execution_count": 160,
   "metadata": {},
   "outputs": [
    {
     "name": "stderr",
     "output_type": "stream",
     "text": [
      "/Users/Eric/Desktop/CS_Research/miniconda3/lib/python3.7/site-packages/ipykernel_launcher.py:2: RuntimeWarning: divide by zero encountered in true_divide\n",
      "  \n",
      "/Users/Eric/Desktop/CS_Research/miniconda3/lib/python3.7/site-packages/ipykernel_launcher.py:2: RuntimeWarning: overflow encountered in true_divide\n",
      "  \n"
     ]
    }
   ],
   "source": [
    "xs = np.array(sample_sizes)\n",
    "ys = np.array(eis128[WIDTH])\n",
    "params, _ = curve_fit(curve, np.array(xs), np.array(ys), p0=[1, 1, 0])"
   ]
  },
  {
   "cell_type": "code",
   "execution_count": 161,
   "metadata": {},
   "outputs": [
    {
     "data": {
      "text/plain": [
       "array([3.16026821e+06, 9.15001093e-01, 3.54159988e+01])"
      ]
     },
     "execution_count": 161,
     "metadata": {},
     "output_type": "execute_result"
    }
   ],
   "source": [
    "params"
   ]
  },
  {
   "cell_type": "code",
   "execution_count": 162,
   "metadata": {},
   "outputs": [
    {
     "data": {
      "image/png": "[encoded data removed]",
      "text/plain": [
       "<Figure size 432x288 with 1 Axes>"
      ]
     },
     "metadata": {
      "needs_background": "light"
     },
     "output_type": "display_data"
    }
   ],
   "source": [
    "plt.plot(xs, ys)\n",
    "plt.plot(xs, curve(xs, *params))\n",
    "plt.yscale('log')"
   ]
  },
  {
   "cell_type": "code",
   "execution_count": null,
   "metadata": {},
   "outputs": [],
   "source": []
  }
 ],
 "metadata": {
  "kernelspec": {
   "display_name": "Python 3",
   "language": "python",
   "name": "python3"
  },
  "language_info": {
   "codemirror_mode": {
    "name": "ipython",
    "version": 3
   },
   "file_extension": ".py",
   "mimetype": "text/x-python",
   "name": "python",
   "nbconvert_exporter": "python",
   "pygments_lexer": "ipython3",
   "version": "3.7.3"
  }
 },
 "nbformat": 4,
 "nbformat_minor": 2
}
