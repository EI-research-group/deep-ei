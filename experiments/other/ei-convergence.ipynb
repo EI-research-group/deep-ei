{
 "cells": [
  {
   "cell_type": "code",
   "execution_count": 46,
   "metadata": {},
   "outputs": [],
   "source": [
    "from pathlib import Path\n",
    "from collections import defaultdict\n",
    "import pickle\n",
    "\n",
    "import numpy as np\n",
    "import matplotlib.pyplot as plt\n",
    "import matplotlib\n",
    "\n",
    "import torch\n",
    "import torch.nn as nn\n",
    "import torch.nn.functional as F\n",
    "import torchvision\n",
    "import torchvision.transforms as transforms\n",
    "\n",
    "from deep_ei import topology_of, ei_of_layer, sensitivity_of_layer"
   ]
  },
  {
   "cell_type": "code",
   "execution_count": 2,
   "metadata": {},
   "outputs": [
    {
     "name": "stdout",
     "output_type": "stream",
     "text": [
      "Using device: cuda\n"
     ]
    }
   ],
   "source": [
    "device = torch.device('cuda' if torch.cuda.is_available() else 'cpu')\n",
    "# dtype = torch.cuda.float if torch.cuda.is_available() else torch.float\n",
    "dtype = torch.float32\n",
    "torch.set_default_dtype(dtype)\n",
    "print(f\"Using device: {device}\")"
   ]
  },
  {
   "cell_type": "code",
   "execution_count": 12,
   "metadata": {},
   "outputs": [],
   "source": [
    "def greyscaleMap(collection, item):\n",
    "    size = len(collection)\n",
    "    pos = collection.index(item)\n",
    "    colormap = matplotlib.cm.get_cmap(\"binary\")\n",
    "    return colormap((((0.6 / size * pos) + 0.1)))\n",
    "                    \n",
    "def rainbowMap(collection, item):\n",
    "    size = len(collection)\n",
    "    pos = collection.index(item)\n",
    "    colormap = matplotlib.cm.get_cmap(\"rainbow\")\n",
    "    return colormap(1.0 * pos / size)\n",
    "\n",
    "def magmaMap(collection, item):\n",
    "    size = len(collection)\n",
    "    pos = collection.index(item)\n",
    "    colormap = matplotlib.cm.get_cmap(\"magma\")\n",
    "    return colormap(0.7 * pos / size + 0.2)\n",
    "\n",
    "def blueMap(collection, item):\n",
    "    size = len(collection)\n",
    "    pos = collection.index(item)\n",
    "    colormap = matplotlib.cm.get_cmap(\"Blues\")\n",
    "    return colormap(0.85 * pos / size + 0.15) # avoid using the lightest blue color -- it's not visible"
   ]
  },
  {
   "cell_type": "code",
   "execution_count": 3,
   "metadata": {},
   "outputs": [],
   "source": [
    "initializers = {\n",
    "    'kaiming': None, # (default)\n",
    "    'xavier_uniform': nn.init.xavier_uniform_,\n",
    "    'xavier_normal': nn.init.xavier_normal_,\n",
    "    'paper': nn.init.uniform_\n",
    "}\n",
    "\n",
    "def weight_initializer(name):\n",
    "    def init_weights(m):\n",
    "        if name == 'kaiming':\n",
    "            return\n",
    "        if name == 'paper':\n",
    "            if isinstance(m, nn.Linear):\n",
    "                boundary = 1 / np.sqrt(m.in_features)\n",
    "                nn.init.uniform_(m.weight, a=-boundary, b=boundary)\n",
    "        elif isinstance(m, nn.Linear):\n",
    "            initializers[name](m.weight)\n",
    "    return init_weights"
   ]
  },
  {
   "cell_type": "code",
   "execution_count": 37,
   "metadata": {},
   "outputs": [],
   "source": [
    "bins = [8, 16, 32, 64, 128, 256, 512]"
   ]
  },
  {
   "cell_type": "markdown",
   "metadata": {},
   "source": [
    "# Danger Zone"
   ]
  },
  {
   "cell_type": "code",
   "execution_count": 8,
   "metadata": {},
   "outputs": [],
   "source": [
    "WIDTH = 30\n",
    "samples = [10000, 20000, 50000, 100000, 500000, 1000000, 10000000]"
   ]
  },
  {
   "cell_type": "code",
   "execution_count": 9,
   "metadata": {},
   "outputs": [],
   "source": [
    "layer = nn.Linear(WIDTH, WIDTH, bias=False).to(device)\n",
    "top = topology_of(layer, input=torch.zeros((1, WIDTH)).to(device))"
   ]
  },
  {
   "cell_type": "code",
   "execution_count": 10,
   "metadata": {},
   "outputs": [],
   "source": [
    "eis = defaultdict(list)"
   ]
  },
  {
   "cell_type": "code",
   "execution_count": 11,
   "metadata": {},
   "outputs": [
    {
     "name": "stdout",
     "output_type": "stream",
     "text": [
      "samples 10000 done\n",
      "samples 20000 done\n",
      "samples 50000 done\n",
      "samples 100000 done\n",
      "samples 500000 done\n",
      "samples 1000000 done\n",
      "samples 10000000 done\n",
      "Done with 8 bins\n",
      "samples 10000 done\n",
      "samples 20000 done\n",
      "samples 50000 done\n",
      "samples 100000 done\n",
      "samples 500000 done\n",
      "samples 1000000 done\n",
      "samples 10000000 done\n",
      "Done with 16 bins\n",
      "samples 10000 done\n",
      "samples 20000 done\n",
      "samples 50000 done\n",
      "samples 100000 done\n",
      "samples 500000 done\n",
      "samples 1000000 done\n",
      "samples 10000000 done\n",
      "Done with 32 bins\n",
      "samples 10000 done\n",
      "samples 20000 done\n",
      "samples 50000 done\n",
      "samples 100000 done\n",
      "samples 500000 done\n",
      "samples 1000000 done\n",
      "samples 10000000 done\n",
      "Done with 64 bins\n",
      "samples 10000 done\n",
      "samples 20000 done\n",
      "samples 50000 done\n",
      "samples 100000 done\n",
      "samples 500000 done\n",
      "samples 1000000 done\n",
      "samples 10000000 done\n",
      "Done with 128 bins\n",
      "samples 10000 done\n",
      "samples 20000 done\n",
      "samples 50000 done\n",
      "samples 100000 done\n",
      "samples 500000 done\n",
      "samples 1000000 done\n",
      "samples 10000000 done\n",
      "Done with 256 bins\n",
      "samples 10000 done\n",
      "samples 20000 done\n",
      "samples 50000 done\n",
      "samples 100000 done\n",
      "samples 500000 done\n",
      "samples 1000000 done\n",
      "samples 10000000 done\n",
      "Done with 512 bins\n"
     ]
    }
   ],
   "source": [
    "for b in bins:\n",
    "    for size in samples:\n",
    "        ei = ei_of_layer(layer, top,\n",
    "                        samples=size,\n",
    "                        in_range=(0, 1),\n",
    "                        in_bins=b,\n",
    "                        out_range=(0, 1),\n",
    "                        out_bins=b,\n",
    "                        activation=nn.Sigmoid(),\n",
    "                        device=device)\n",
    "        print(f\"samples {size} done\")\n",
    "        eis[b].append(ei)\n",
    "    print(f\"Done with {b} bins\")"
   ]
  },
  {
   "cell_type": "code",
   "execution_count": 24,
   "metadata": {},
   "outputs": [],
   "source": [
    "samples.append(30000000)"
   ]
  },
  {
   "cell_type": "code",
   "execution_count": 25,
   "metadata": {},
   "outputs": [
    {
     "name": "stdout",
     "output_type": "stream",
     "text": [
      "Done with 8 bins\n",
      "Done with 16 bins\n",
      "Done with 32 bins\n",
      "Done with 64 bins\n",
      "Done with 128 bins\n",
      "Done with 256 bins\n",
      "Done with 512 bins\n"
     ]
    }
   ],
   "source": [
    "for b in bins:\n",
    "    ei = ei_of_layer(layer, top,\n",
    "                samples=30000000,\n",
    "                in_range=(0, 1),\n",
    "                in_bins=b,\n",
    "                out_range=(0, 1),\n",
    "                out_bins=b,\n",
    "                activation=nn.Sigmoid(),\n",
    "                device=device)\n",
    "    eis[b].append(ei)\n",
    "    print(f\"Done with {b} bins\")"
   ]
  },
  {
   "cell_type": "code",
   "execution_count": 26,
   "metadata": {},
   "outputs": [
    {
     "data": {
      "text/plain": [
       "[10000, 20000, 50000, 100000, 500000, 1000000, 10000000, 30000000]"
      ]
     },
     "execution_count": 26,
     "metadata": {},
     "output_type": "execute_result"
    }
   ],
   "source": [
    "samples"
   ]
  },
  {
   "cell_type": "code",
   "execution_count": 36,
   "metadata": {},
   "outputs": [],
   "source": [
    "data = {\n",
    "    'sample_sizes': samples,\n",
    "    'eis': eis\n",
    "}\n",
    "\n",
    "with open(\"saved_data/id-convergence.pkl\", 'wb') as f:\n",
    "    pickle.dump(data, f)"
   ]
  },
  {
   "cell_type": "code",
   "execution_count": 93,
   "metadata": {},
   "outputs": [],
   "source": [
    "samples.insert(6, 3200000)\n",
    "samples.append(100000000)"
   ]
  },
  {
   "cell_type": "code",
   "execution_count": 94,
   "metadata": {},
   "outputs": [
    {
     "name": "stdout",
     "output_type": "stream",
     "text": [
      "Done with 8 bins\n",
      "Done with 16 bins\n",
      "Done with 32 bins\n",
      "Done with 64 bins\n",
      "Done with 128 bins\n",
      "Done with 256 bins\n",
      "Done with 512 bins\n"
     ]
    }
   ],
   "source": [
    "for b in bins:\n",
    "    ei = ei_of_layer(layer, top,\n",
    "                samples=3200000,\n",
    "                in_range=(0, 1),\n",
    "                in_bins=b,\n",
    "                out_range=(0, 1),\n",
    "                out_bins=b,\n",
    "                activation=nn.Sigmoid(),\n",
    "                device=device)\n",
    "    eis[b].insert(6, ei)\n",
    "    print(f\"Done with {b} bins\")"
   ]
  },
  {
   "cell_type": "code",
   "execution_count": 95,
   "metadata": {},
   "outputs": [
    {
     "name": "stdout",
     "output_type": "stream",
     "text": [
      "Done with 8 bins\n",
      "Done with 16 bins\n",
      "Done with 32 bins\n",
      "Done with 64 bins\n",
      "Done with 128 bins\n",
      "Done with 256 bins\n",
      "Done with 512 bins\n"
     ]
    }
   ],
   "source": [
    "for b in bins:\n",
    "    ei = ei_of_layer(layer, top,\n",
    "                samples=100000000,\n",
    "                in_range=(0, 1),\n",
    "                in_bins=b,\n",
    "                out_range=(0, 1),\n",
    "                out_bins=b,\n",
    "                activation=nn.Sigmoid(),\n",
    "                device=device)\n",
    "    eis[b].append(ei)\n",
    "    print(f\"Done with {b} bins\")"
   ]
  },
  {
   "cell_type": "code",
   "execution_count": 100,
   "metadata": {},
   "outputs": [],
   "source": [
    "samples.remove(3200000)"
   ]
  },
  {
   "cell_type": "code",
   "execution_count": 106,
   "metadata": {},
   "outputs": [],
   "source": [
    "data = {\n",
    "    'sample_sizes': samples,\n",
    "    'eis': eis\n",
    "}\n",
    "\n",
    "with open(\"saved_data/id-convergence.pkl\", 'wb') as f:\n",
    "    pickle.dump(data, f)"
   ]
  },
  {
   "cell_type": "markdown",
   "metadata": {},
   "source": [
    "# Done with Danger Zone"
   ]
  },
  {
   "cell_type": "code",
   "execution_count": 107,
   "metadata": {},
   "outputs": [],
   "source": [
    "# Load data:\n",
    "with open(\"saved_data/id-convergence.pkl\", 'rb') as f:\n",
    "    data = pickle.load(f)\n",
    "\n",
    "samples = data['sample_sizes']\n",
    "eis = data['eis']"
   ]
  },
  {
   "cell_type": "code",
   "execution_count": 119,
   "metadata": {},
   "outputs": [
    {
     "data": {
      "text/plain": [
       "10"
      ]
     },
     "execution_count": 119,
     "metadata": {},
     "output_type": "execute_result"
    }
   ],
   "source": [
    "len(samples)"
   ]
  },
  {
   "cell_type": "code",
   "execution_count": 143,
   "metadata": {},
   "outputs": [
    {
     "data": {
      "image/png": "[encoded data removed]",
      "text/plain": [
       "<Figure size 432x288 with 1 Axes>"
      ]
     },
     "metadata": {
      "needs_background": "light"
     },
     "output_type": "display_data"
    }
   ],
   "source": [
    "fig = plt.figure(figsize=(6, 4))\n",
    "ax = fig.gca()\n",
    "\n",
    "for b in bins[2:]:\n",
    "    plt.plot(samples[2:], eis[b][2:], color=magmaMap(bins, b), ls=':', marker='o', markersize=12, label=str(b))\n",
    "# for b in bins[2:]:\n",
    "#     plt.scatter(samples[4:], eis[b][4:], color=magmaMap(bins, b), label=str(b), s=120)\n",
    "\n",
    "ax.set_title(\"EI Convergence\", fontsize=15)\n",
    "ax.set_xlabel('Time Series Length', fontsize=15)\n",
    "ax.set_ylabel('Effective Information (bits)', fontsize=15)\n",
    "plt.xscale('log')\n",
    "plt.ylim(0, 120)\n",
    "# plt.xlim(400000, 120000000)\n",
    "\n",
    "ax.tick_params(axis='both', which='major', labelsize=12)\n",
    "\n",
    "plt.legend(loc='upper right', title=\"bins\")\n",
    "plt.savefig(\"conv-scatter-plot-with-lines.png\", dpi=300, bbox_inches='tight')"
   ]
  },
  {
   "cell_type": "code",
   "execution_count": null,
   "metadata": {},
   "outputs": [],
   "source": []
  },
  {
   "cell_type": "code",
   "execution_count": null,
   "metadata": {},
   "outputs": [],
   "source": []
  }
 ],
 "metadata": {
  "kernelspec": {
   "display_name": "Python 3",
   "language": "python",
   "name": "python3"
  },
  "language_info": {
   "codemirror_mode": {
    "name": "ipython",
    "version": 3
   },
   "file_extension": ".py",
   "mimetype": "text/x-python",
   "name": "python",
   "nbconvert_exporter": "python",
   "pygments_lexer": "ipython3",
   "version": "3.7.4"
  }
 },
 "nbformat": 4,
 "nbformat_minor": 2
}
